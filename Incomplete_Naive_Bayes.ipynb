{
  "nbformat": 4,
  "nbformat_minor": 0,
  "metadata": {
    "colab": {
      "name": "Incomplete Naive Bayes.ipynb",
      "version": "0.3.2",
      "provenance": [],
      "collapsed_sections": [],
      "include_colab_link": true
    },
    "kernelspec": {
      "name": "python3",
      "display_name": "Python 3"
    }
  },
  "cells": [
    {
      "cell_type": "markdown",
      "metadata": {
        "id": "view-in-github",
        "colab_type": "text"
      },
      "source": [
        "<a href=\"https://colab.research.google.com/github/ragingsilverback/Cognitive-Face-Python/blob/master/Incomplete_Naive_Bayes.ipynb\" target=\"_parent\"><img src=\"https://colab.research.google.com/assets/colab-badge.svg\" alt=\"Open In Colab\"/></a>"
      ]
    },
    {
      "cell_type": "markdown",
      "metadata": {
        "id": "r-Vus1cx-Km9",
        "colab_type": "text"
      },
      "source": [
        "Naive Bayes Spam Classifier"
      ]
    },
    {
      "cell_type": "code",
      "metadata": {
        "id": "X_6Uulgb-KAt",
        "colab_type": "code",
        "colab": {}
      },
      "source": [
        "import os\n",
        "import io\n",
        "import numpy\n",
        "from pandas import DataFrame\n",
        "from sklearn.feature_extraction.text import CountVectorizer\n",
        "from sklearn.naive_bayes import MultinomialNB\n",
        "\n",
        "def readFiles(path):\n",
        "  for root,dirnames,filenames in os.walk(path):\n",
        "    for filename in filenames:\n",
        "      path = os.path.join(root,filename)\n",
        "      \n",
        "      inBody = False\n",
        "      lines = []\n",
        "      f = io.open(path,'r',encoding='latin1')\n",
        "      for line in f:\n",
        "        if inBody:\n",
        "          lines.append(line)\n",
        "        elif line == '\\n':\n",
        "          inBody = True\n",
        "          \n",
        "      f.close()\n",
        "      message = '\\n'.join(lines)\n",
        "      yield path,message\n",
        "      \n",
        "def dataFrameFromDirectory(path,classification):\n",
        "  rows = []\n",
        "  index = []\n",
        "  for filename,message in readFiles(path):\n",
        "    rows.append({'message':message,'class':classification})\n",
        "    index.append(filename)\n",
        "    \n",
        "  return DataFrame(rows,index=index)\n",
        "\n",
        "data = DataFrame({'message':[],'class':[]})\n",
        "\n",
        "data = data.append(dataFrameFromDirectory('D:/DataScience/DataScience-Python3/emails/spam','spam'))\n",
        "data = data.append(dataFrameFromDirectory('D:/DataScience/DataScience-Python3/emails/ham','ham'))\n",
        "\n"
      ],
      "execution_count": 0,
      "outputs": []
    },
    {
      "cell_type": "code",
      "metadata": {
        "id": "JgJzTjvUCBpM",
        "colab_type": "code",
        "outputId": "e31bdd64-b988-4cee-fdfd-ddcbdeb6a450",
        "colab": {
          "base_uri": "https://localhost:8080/",
          "height": 47
        }
      },
      "source": [
        "data.head()"
      ],
      "execution_count": 0,
      "outputs": [
        {
          "output_type": "execute_result",
          "data": {
            "text/html": [
              "<div>\n",
              "<style scoped>\n",
              "    .dataframe tbody tr th:only-of-type {\n",
              "        vertical-align: middle;\n",
              "    }\n",
              "\n",
              "    .dataframe tbody tr th {\n",
              "        vertical-align: top;\n",
              "    }\n",
              "\n",
              "    .dataframe thead th {\n",
              "        text-align: right;\n",
              "    }\n",
              "</style>\n",
              "<table border=\"1\" class=\"dataframe\">\n",
              "  <thead>\n",
              "    <tr style=\"text-align: right;\">\n",
              "      <th></th>\n",
              "      <th>message</th>\n",
              "      <th>class</th>\n",
              "    </tr>\n",
              "  </thead>\n",
              "  <tbody>\n",
              "  </tbody>\n",
              "</table>\n",
              "</div>"
            ],
            "text/plain": [
              "Empty DataFrame\n",
              "Columns: [message, class]\n",
              "Index: []"
            ]
          },
          "metadata": {
            "tags": []
          },
          "execution_count": 8
        }
      ]
    }
  ]
}